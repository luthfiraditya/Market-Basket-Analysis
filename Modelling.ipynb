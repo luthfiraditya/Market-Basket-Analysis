{
 "cells": [
  {
   "cell_type": "code",
   "execution_count": 1,
   "metadata": {},
   "outputs": [],
   "source": [
    "import numpy as np\n",
    "import pandas as pd\n",
    "import matplotlib.pyplot as plt\n",
    "import seaborn as sns\n",
    "import gc\n",
    "pd.options.mode.chained_assignment = None\n",
    "\n",
    "import xgboost as xgb\n",
    "root='C:/Users/luthf/Documents/DS/BasketAnalysis/'\n",
    "\n",
    "from sklearn.model_selection import train_test_split, GridSearchCV, cross_val_score\n",
    "from sklearn.metrics import confusion_matrix, accuracy_score, classification_report\n",
    "from sklearn.metrics import roc_auc_score, roc_curve, precision_score, recall_score, f1_score"
   ]
  },
  {
   "cell_type": "code",
   "execution_count": 2,
   "metadata": {},
   "outputs": [],
   "source": [
    "df=pd.read_pickle(root+'datafinal.pkl')"
   ]
  },
  {
   "cell_type": "code",
   "execution_count": 3,
   "metadata": {},
   "outputs": [
    {
     "data": {
      "text/html": [
       "<div>\n",
       "<style scoped>\n",
       "    .dataframe tbody tr th:only-of-type {\n",
       "        vertical-align: middle;\n",
       "    }\n",
       "\n",
       "    .dataframe tbody tr th {\n",
       "        vertical-align: top;\n",
       "    }\n",
       "\n",
       "    .dataframe thead th {\n",
       "        text-align: right;\n",
       "    }\n",
       "</style>\n",
       "<table border=\"1\" class=\"dataframe\">\n",
       "  <thead>\n",
       "    <tr style=\"text-align: right;\">\n",
       "      <th></th>\n",
       "      <th>user_id</th>\n",
       "      <th>product_id</th>\n",
       "      <th>avg_add_to_cart_by_user</th>\n",
       "      <th>avg_day_since_prior_order</th>\n",
       "      <th>user_total_order_product</th>\n",
       "      <th>user_total_reorder_product</th>\n",
       "      <th>user_percentage_reorder_product</th>\n",
       "      <th>last_order_in</th>\n",
       "      <th>is_reorder_3</th>\n",
       "      <th>is_reorder_2</th>\n",
       "      <th>...</th>\n",
       "      <th>user_total_reorder</th>\n",
       "      <th>user_overal_reorder</th>\n",
       "      <th>avg_order_size</th>\n",
       "      <th>mean_reorder_size</th>\n",
       "      <th>orders_3</th>\n",
       "      <th>orders_2</th>\n",
       "      <th>orders_1</th>\n",
       "      <th>reorder_3</th>\n",
       "      <th>reorder_2</th>\n",
       "      <th>reorder_1</th>\n",
       "    </tr>\n",
       "  </thead>\n",
       "  <tbody>\n",
       "    <tr>\n",
       "      <th>0</th>\n",
       "      <td>1</td>\n",
       "      <td>196</td>\n",
       "      <td>1.400000</td>\n",
       "      <td>17.600000</td>\n",
       "      <td>10.0</td>\n",
       "      <td>9.0</td>\n",
       "      <td>0.900000</td>\n",
       "      <td>10.0</td>\n",
       "      <td>1.0</td>\n",
       "      <td>1.0</td>\n",
       "      <td>...</td>\n",
       "      <td>41.0</td>\n",
       "      <td>0.694915</td>\n",
       "      <td>5.9</td>\n",
       "      <td>0.705833</td>\n",
       "      <td>6</td>\n",
       "      <td>6</td>\n",
       "      <td>9</td>\n",
       "      <td>0.666667</td>\n",
       "      <td>1.0</td>\n",
       "      <td>0.666667</td>\n",
       "    </tr>\n",
       "    <tr>\n",
       "      <th>1</th>\n",
       "      <td>1</td>\n",
       "      <td>10258</td>\n",
       "      <td>3.333333</td>\n",
       "      <td>19.555555</td>\n",
       "      <td>9.0</td>\n",
       "      <td>8.0</td>\n",
       "      <td>0.888889</td>\n",
       "      <td>10.0</td>\n",
       "      <td>1.0</td>\n",
       "      <td>1.0</td>\n",
       "      <td>...</td>\n",
       "      <td>41.0</td>\n",
       "      <td>0.694915</td>\n",
       "      <td>5.9</td>\n",
       "      <td>0.705833</td>\n",
       "      <td>6</td>\n",
       "      <td>6</td>\n",
       "      <td>9</td>\n",
       "      <td>0.666667</td>\n",
       "      <td>1.0</td>\n",
       "      <td>0.666667</td>\n",
       "    </tr>\n",
       "    <tr>\n",
       "      <th>2</th>\n",
       "      <td>1</td>\n",
       "      <td>10326</td>\n",
       "      <td>5.000000</td>\n",
       "      <td>28.000000</td>\n",
       "      <td>1.0</td>\n",
       "      <td>0.0</td>\n",
       "      <td>0.000000</td>\n",
       "      <td>5.0</td>\n",
       "      <td>0.0</td>\n",
       "      <td>0.0</td>\n",
       "      <td>...</td>\n",
       "      <td>41.0</td>\n",
       "      <td>0.694915</td>\n",
       "      <td>5.9</td>\n",
       "      <td>0.705833</td>\n",
       "      <td>6</td>\n",
       "      <td>6</td>\n",
       "      <td>9</td>\n",
       "      <td>0.666667</td>\n",
       "      <td>1.0</td>\n",
       "      <td>0.666667</td>\n",
       "    </tr>\n",
       "    <tr>\n",
       "      <th>3</th>\n",
       "      <td>1</td>\n",
       "      <td>12427</td>\n",
       "      <td>3.300000</td>\n",
       "      <td>17.600000</td>\n",
       "      <td>10.0</td>\n",
       "      <td>9.0</td>\n",
       "      <td>0.900000</td>\n",
       "      <td>10.0</td>\n",
       "      <td>1.0</td>\n",
       "      <td>1.0</td>\n",
       "      <td>...</td>\n",
       "      <td>41.0</td>\n",
       "      <td>0.694915</td>\n",
       "      <td>5.9</td>\n",
       "      <td>0.705833</td>\n",
       "      <td>6</td>\n",
       "      <td>6</td>\n",
       "      <td>9</td>\n",
       "      <td>0.666667</td>\n",
       "      <td>1.0</td>\n",
       "      <td>0.666667</td>\n",
       "    </tr>\n",
       "    <tr>\n",
       "      <th>4</th>\n",
       "      <td>1</td>\n",
       "      <td>13032</td>\n",
       "      <td>6.333333</td>\n",
       "      <td>21.666666</td>\n",
       "      <td>3.0</td>\n",
       "      <td>2.0</td>\n",
       "      <td>0.666667</td>\n",
       "      <td>10.0</td>\n",
       "      <td>1.0</td>\n",
       "      <td>0.0</td>\n",
       "      <td>...</td>\n",
       "      <td>41.0</td>\n",
       "      <td>0.694915</td>\n",
       "      <td>5.9</td>\n",
       "      <td>0.705833</td>\n",
       "      <td>6</td>\n",
       "      <td>6</td>\n",
       "      <td>9</td>\n",
       "      <td>0.666667</td>\n",
       "      <td>1.0</td>\n",
       "      <td>0.666667</td>\n",
       "    </tr>\n",
       "  </tbody>\n",
       "</table>\n",
       "<p>5 rows × 65 columns</p>\n",
       "</div>"
      ],
      "text/plain": [
       "   user_id  product_id  avg_add_to_cart_by_user  avg_day_since_prior_order  \\\n",
       "0        1         196                 1.400000                  17.600000   \n",
       "1        1       10258                 3.333333                  19.555555   \n",
       "2        1       10326                 5.000000                  28.000000   \n",
       "3        1       12427                 3.300000                  17.600000   \n",
       "4        1       13032                 6.333333                  21.666666   \n",
       "\n",
       "   user_total_order_product  user_total_reorder_product  \\\n",
       "0                      10.0                         9.0   \n",
       "1                       9.0                         8.0   \n",
       "2                       1.0                         0.0   \n",
       "3                      10.0                         9.0   \n",
       "4                       3.0                         2.0   \n",
       "\n",
       "   user_percentage_reorder_product  last_order_in  is_reorder_3  is_reorder_2  \\\n",
       "0                         0.900000           10.0           1.0           1.0   \n",
       "1                         0.888889           10.0           1.0           1.0   \n",
       "2                         0.000000            5.0           0.0           0.0   \n",
       "3                         0.900000           10.0           1.0           1.0   \n",
       "4                         0.666667           10.0           1.0           0.0   \n",
       "\n",
       "   ...  user_total_reorder  user_overal_reorder  avg_order_size  \\\n",
       "0  ...                41.0             0.694915             5.9   \n",
       "1  ...                41.0             0.694915             5.9   \n",
       "2  ...                41.0             0.694915             5.9   \n",
       "3  ...                41.0             0.694915             5.9   \n",
       "4  ...                41.0             0.694915             5.9   \n",
       "\n",
       "   mean_reorder_size  orders_3  orders_2  orders_1  reorder_3  reorder_2  \\\n",
       "0           0.705833         6         6         9   0.666667        1.0   \n",
       "1           0.705833         6         6         9   0.666667        1.0   \n",
       "2           0.705833         6         6         9   0.666667        1.0   \n",
       "3           0.705833         6         6         9   0.666667        1.0   \n",
       "4           0.705833         6         6         9   0.666667        1.0   \n",
       "\n",
       "   reorder_1  \n",
       "0   0.666667  \n",
       "1   0.666667  \n",
       "2   0.666667  \n",
       "3   0.666667  \n",
       "4   0.666667  \n",
       "\n",
       "[5 rows x 65 columns]"
      ]
     },
     "execution_count": 3,
     "metadata": {},
     "output_type": "execute_result"
    }
   ],
   "source": [
    "df.head()"
   ]
  },
  {
   "cell_type": "code",
   "execution_count": 4,
   "metadata": {},
   "outputs": [],
   "source": [
    "def reduce_memory(df):\n",
    "    \n",
    "    \"\"\"\n",
    "    This function reduce the dataframe memory usage by converting it's type for easier handling.\n",
    "    \n",
    "    Parameters: Dataframe\n",
    "    Return: Dataframe\n",
    "    \"\"\"\n",
    "    \n",
    "    start_mem_usg = df.memory_usage().sum() / 1024**2 \n",
    "    print(\"Memory usage of properties dataframe is :\",start_mem_usg,\" MB\")\n",
    "    \n",
    "    for col in df.columns:\n",
    "        if df[col].dtypes in [\"int64\", \"int32\", \"int16\"]:\n",
    "            \n",
    "            cmin = df[col].min()\n",
    "            cmax = df[col].max()\n",
    "            \n",
    "            if cmin > np.iinfo(np.int8).min and cmax < np.iinfo(np.int8).max:\n",
    "                df[col] = df[col].astype(np.int8)\n",
    "            \n",
    "            elif cmin > np.iinfo(np.int16).min and cmax < np.iinfo(np.int16).max:\n",
    "                df[col] = df[col].astype(np.int16)\n",
    "            \n",
    "            elif cmin > np.iinfo(np.int32).min and cmax < np.iinfo(np.int32).max:\n",
    "                df[col] = df[col].astype(np.int32)\n",
    "        \n",
    "        if df[col].dtypes in [\"float64\", \"float32\"]:\n",
    "            \n",
    "            cmin = df[col].min()\n",
    "            cmax = df[col].max()\n",
    "            \n",
    "            if cmin > np.finfo(np.float16).min and cmax < np.finfo(np.float16).max:\n",
    "                df[col] = df[col].astype(np.float16)\n",
    "            \n",
    "            elif cmin > np.finfo(np.float32).min and cmax < np.finfo(np.float32).max:\n",
    "                df[col] = df[col].astype(np.float32)\n",
    "    \n",
    "    print(\"\")\n",
    "    print(\"___MEMORY USAGE AFTER COMPLETION:___\")\n",
    "    mem_usg = df.memory_usage().sum() / 1024**2 \n",
    "    print(\"Memory usage is: \",mem_usg,\" MB\")\n",
    "    print(\"This is \",100*mem_usg/start_mem_usg,\"% of the initial size\")\n",
    "    \n",
    "    return df"
   ]
  },
  {
   "cell_type": "code",
   "execution_count": 5,
   "metadata": {},
   "outputs": [
    {
     "name": "stdout",
     "output_type": "stream",
     "text": [
      "Memory usage of properties dataframe is : 4041.0332679748535  MB\n",
      "\n",
      "___MEMORY USAGE AFTER COMPLETION:___\n",
      "Memory usage is:  1188.063780784607  MB\n",
      "This is  29.4 % of the initial size\n"
     ]
    }
   ],
   "source": [
    "df = reduce_memory(df)"
   ]
  },
  {
   "cell_type": "code",
   "execution_count": 7,
   "metadata": {},
   "outputs": [
    {
     "name": "stdout",
     "output_type": "stream",
     "text": [
      "<class 'pandas.core.frame.DataFrame'>\n",
      "Int64Index: 8474661 entries, 0 to 8474660\n",
      "Data columns (total 65 columns):\n",
      " #   Column                           Dtype  \n",
      "---  ------                           -----  \n",
      " 0   user_id                          int32  \n",
      " 1   product_id                       uint64 \n",
      " 2   avg_add_to_cart_by_user          float16\n",
      " 3   avg_day_since_prior_order        float16\n",
      " 4   user_total_order_product         float16\n",
      " 5   user_total_reorder_product       float16\n",
      " 6   user_percentage_reorder_product  float16\n",
      " 7   last_order_in                    float16\n",
      " 8   is_reorder_3                     float16\n",
      " 9   is_reorder_2                     float16\n",
      " 10  is_reorder_1                     float16\n",
      " 11  order_number                     float16\n",
      " 12  order_dow                        float16\n",
      " 13  order_hour_of_day                float16\n",
      " 14  days_since_prior_order           float16\n",
      " 15  reordered                        float16\n",
      " 16  mean_add_to_cart                 float16\n",
      " 17  total_order                      int32  \n",
      " 18  total_reorder                    float32\n",
      " 19  reordered_percentage             float16\n",
      " 20  unique_user                      int32  \n",
      " 21  first_buy                        int32  \n",
      " 22  second_buy                       int32  \n",
      " 23  aisle_mean_add_to_cart           float16\n",
      " 24  aisle_std_add_to_cart            float16\n",
      " 25  aisle_total_order                int32  \n",
      " 26  aisle_total_reorder              float32\n",
      " 27  aisle_reordered_percentage       float16\n",
      " 28  aisle_unique_user                int32  \n",
      " 29  aisle_0                          int8   \n",
      " 30  aisle_1                          int8   \n",
      " 31  aisle_2                          int8   \n",
      " 32  aisle_3                          int8   \n",
      " 33  aisle_4                          int8   \n",
      " 34  aisle_5                          int8   \n",
      " 35  aisle_6                          int8   \n",
      " 36  aisle_7                          int8   \n",
      " 37  department_mean_add_to_cart      float16\n",
      " 38  department_std_add_to_cart       float16\n",
      " 39  department_reordered_percentage  float16\n",
      " 40  department_unique_user           int32  \n",
      " 41  department_0                     int8   \n",
      " 42  department_1                     int8   \n",
      " 43  department_2                     int8   \n",
      " 44  department_3                     int8   \n",
      " 45  department_4                     int8   \n",
      " 46  user_avg_dow_order               float16\n",
      " 47  user_std_dow_order               float16\n",
      " 48  user_avg_hour_order              float16\n",
      " 49  user_std_hour_order              float16\n",
      " 50  user_avg_prior_order             float16\n",
      " 51  user_std_prior_order             float16\n",
      " 52  user_total_order                 int8   \n",
      " 53  user_total_product_order         int16  \n",
      " 54  user__unique_product_order       uint16 \n",
      " 55  user_total_reorder               float16\n",
      " 56  user_overal_reorder              float16\n",
      " 57  avg_order_size                   float16\n",
      " 58  mean_reorder_size                float16\n",
      " 59  orders_3                         int8   \n",
      " 60  orders_2                         int8   \n",
      " 61  orders_1                         int8   \n",
      " 62  reorder_3                        float16\n",
      " 63  reorder_2                        float16\n",
      " 64  reorder_1                        float16\n",
      "dtypes: float16(35), float32(2), int16(1), int32(8), int8(17), uint16(1), uint64(1)\n",
      "memory usage: 1.2 GB\n"
     ]
    }
   ],
   "source": [
    "df.info()"
   ]
  },
  {
   "cell_type": "code",
   "execution_count": 8,
   "metadata": {},
   "outputs": [
    {
     "data": {
      "text/plain": [
       "0          10.0\n",
       "1          10.0\n",
       "2           5.0\n",
       "3          10.0\n",
       "4          10.0\n",
       "           ... \n",
       "8474656    12.0\n",
       "8474657     7.0\n",
       "8474658    11.0\n",
       "8474659     7.0\n",
       "8474660    12.0\n",
       "Name: last_order_in, Length: 8474661, dtype: float16"
      ]
     },
     "execution_count": 8,
     "metadata": {},
     "output_type": "execute_result"
    }
   ],
   "source": [
    "df.last_order_in"
   ]
  },
  {
   "cell_type": "code",
   "execution_count": 9,
   "metadata": {},
   "outputs": [],
   "source": [
    "df['order_diff']=df.order_number-df.last_order_in"
   ]
  },
  {
   "cell_type": "code",
   "execution_count": 11,
   "metadata": {},
   "outputs": [],
   "source": [
    "df.drop(['user_id', 'product_id'], axis = 1, inplace = True)"
   ]
  },
  {
   "cell_type": "code",
   "execution_count": 12,
   "metadata": {},
   "outputs": [
    {
     "data": {
      "text/html": [
       "<div>\n",
       "<style scoped>\n",
       "    .dataframe tbody tr th:only-of-type {\n",
       "        vertical-align: middle;\n",
       "    }\n",
       "\n",
       "    .dataframe tbody tr th {\n",
       "        vertical-align: top;\n",
       "    }\n",
       "\n",
       "    .dataframe thead th {\n",
       "        text-align: right;\n",
       "    }\n",
       "</style>\n",
       "<table border=\"1\" class=\"dataframe\">\n",
       "  <thead>\n",
       "    <tr style=\"text-align: right;\">\n",
       "      <th></th>\n",
       "      <th>avg_add_to_cart_by_user</th>\n",
       "      <th>avg_day_since_prior_order</th>\n",
       "      <th>user_total_order_product</th>\n",
       "      <th>user_total_reorder_product</th>\n",
       "      <th>user_percentage_reorder_product</th>\n",
       "      <th>last_order_in</th>\n",
       "      <th>is_reorder_3</th>\n",
       "      <th>is_reorder_2</th>\n",
       "      <th>is_reorder_1</th>\n",
       "      <th>order_number</th>\n",
       "      <th>...</th>\n",
       "      <th>user_overal_reorder</th>\n",
       "      <th>avg_order_size</th>\n",
       "      <th>mean_reorder_size</th>\n",
       "      <th>orders_3</th>\n",
       "      <th>orders_2</th>\n",
       "      <th>orders_1</th>\n",
       "      <th>reorder_3</th>\n",
       "      <th>reorder_2</th>\n",
       "      <th>reorder_1</th>\n",
       "      <th>order_diff</th>\n",
       "    </tr>\n",
       "  </thead>\n",
       "  <tbody>\n",
       "    <tr>\n",
       "      <th>0</th>\n",
       "      <td>1.400391</td>\n",
       "      <td>17.593750</td>\n",
       "      <td>10.0</td>\n",
       "      <td>9.0</td>\n",
       "      <td>0.899902</td>\n",
       "      <td>10.0</td>\n",
       "      <td>1.0</td>\n",
       "      <td>1.0</td>\n",
       "      <td>1.0</td>\n",
       "      <td>11.0</td>\n",
       "      <td>...</td>\n",
       "      <td>0.694824</td>\n",
       "      <td>5.898438</td>\n",
       "      <td>0.706055</td>\n",
       "      <td>6</td>\n",
       "      <td>6</td>\n",
       "      <td>9</td>\n",
       "      <td>0.666504</td>\n",
       "      <td>1.0</td>\n",
       "      <td>0.666504</td>\n",
       "      <td>1.0</td>\n",
       "    </tr>\n",
       "    <tr>\n",
       "      <th>1</th>\n",
       "      <td>3.333984</td>\n",
       "      <td>19.562500</td>\n",
       "      <td>9.0</td>\n",
       "      <td>8.0</td>\n",
       "      <td>0.888672</td>\n",
       "      <td>10.0</td>\n",
       "      <td>1.0</td>\n",
       "      <td>1.0</td>\n",
       "      <td>1.0</td>\n",
       "      <td>11.0</td>\n",
       "      <td>...</td>\n",
       "      <td>0.694824</td>\n",
       "      <td>5.898438</td>\n",
       "      <td>0.706055</td>\n",
       "      <td>6</td>\n",
       "      <td>6</td>\n",
       "      <td>9</td>\n",
       "      <td>0.666504</td>\n",
       "      <td>1.0</td>\n",
       "      <td>0.666504</td>\n",
       "      <td>1.0</td>\n",
       "    </tr>\n",
       "    <tr>\n",
       "      <th>2</th>\n",
       "      <td>5.000000</td>\n",
       "      <td>28.000000</td>\n",
       "      <td>1.0</td>\n",
       "      <td>0.0</td>\n",
       "      <td>0.000000</td>\n",
       "      <td>5.0</td>\n",
       "      <td>0.0</td>\n",
       "      <td>0.0</td>\n",
       "      <td>0.0</td>\n",
       "      <td>11.0</td>\n",
       "      <td>...</td>\n",
       "      <td>0.694824</td>\n",
       "      <td>5.898438</td>\n",
       "      <td>0.706055</td>\n",
       "      <td>6</td>\n",
       "      <td>6</td>\n",
       "      <td>9</td>\n",
       "      <td>0.666504</td>\n",
       "      <td>1.0</td>\n",
       "      <td>0.666504</td>\n",
       "      <td>6.0</td>\n",
       "    </tr>\n",
       "    <tr>\n",
       "      <th>3</th>\n",
       "      <td>3.300781</td>\n",
       "      <td>17.593750</td>\n",
       "      <td>10.0</td>\n",
       "      <td>9.0</td>\n",
       "      <td>0.899902</td>\n",
       "      <td>10.0</td>\n",
       "      <td>1.0</td>\n",
       "      <td>1.0</td>\n",
       "      <td>1.0</td>\n",
       "      <td>11.0</td>\n",
       "      <td>...</td>\n",
       "      <td>0.694824</td>\n",
       "      <td>5.898438</td>\n",
       "      <td>0.706055</td>\n",
       "      <td>6</td>\n",
       "      <td>6</td>\n",
       "      <td>9</td>\n",
       "      <td>0.666504</td>\n",
       "      <td>1.0</td>\n",
       "      <td>0.666504</td>\n",
       "      <td>1.0</td>\n",
       "    </tr>\n",
       "    <tr>\n",
       "      <th>4</th>\n",
       "      <td>6.332031</td>\n",
       "      <td>21.671875</td>\n",
       "      <td>3.0</td>\n",
       "      <td>2.0</td>\n",
       "      <td>0.666504</td>\n",
       "      <td>10.0</td>\n",
       "      <td>1.0</td>\n",
       "      <td>0.0</td>\n",
       "      <td>0.0</td>\n",
       "      <td>11.0</td>\n",
       "      <td>...</td>\n",
       "      <td>0.694824</td>\n",
       "      <td>5.898438</td>\n",
       "      <td>0.706055</td>\n",
       "      <td>6</td>\n",
       "      <td>6</td>\n",
       "      <td>9</td>\n",
       "      <td>0.666504</td>\n",
       "      <td>1.0</td>\n",
       "      <td>0.666504</td>\n",
       "      <td>1.0</td>\n",
       "    </tr>\n",
       "  </tbody>\n",
       "</table>\n",
       "<p>5 rows × 64 columns</p>\n",
       "</div>"
      ],
      "text/plain": [
       "   avg_add_to_cart_by_user  avg_day_since_prior_order  \\\n",
       "0                 1.400391                  17.593750   \n",
       "1                 3.333984                  19.562500   \n",
       "2                 5.000000                  28.000000   \n",
       "3                 3.300781                  17.593750   \n",
       "4                 6.332031                  21.671875   \n",
       "\n",
       "   user_total_order_product  user_total_reorder_product  \\\n",
       "0                      10.0                         9.0   \n",
       "1                       9.0                         8.0   \n",
       "2                       1.0                         0.0   \n",
       "3                      10.0                         9.0   \n",
       "4                       3.0                         2.0   \n",
       "\n",
       "   user_percentage_reorder_product  last_order_in  is_reorder_3  is_reorder_2  \\\n",
       "0                         0.899902           10.0           1.0           1.0   \n",
       "1                         0.888672           10.0           1.0           1.0   \n",
       "2                         0.000000            5.0           0.0           0.0   \n",
       "3                         0.899902           10.0           1.0           1.0   \n",
       "4                         0.666504           10.0           1.0           0.0   \n",
       "\n",
       "   is_reorder_1  order_number  ...  user_overal_reorder  avg_order_size  \\\n",
       "0           1.0          11.0  ...             0.694824        5.898438   \n",
       "1           1.0          11.0  ...             0.694824        5.898438   \n",
       "2           0.0          11.0  ...             0.694824        5.898438   \n",
       "3           1.0          11.0  ...             0.694824        5.898438   \n",
       "4           0.0          11.0  ...             0.694824        5.898438   \n",
       "\n",
       "   mean_reorder_size  orders_3  orders_2  orders_1  reorder_3  reorder_2  \\\n",
       "0           0.706055         6         6         9   0.666504        1.0   \n",
       "1           0.706055         6         6         9   0.666504        1.0   \n",
       "2           0.706055         6         6         9   0.666504        1.0   \n",
       "3           0.706055         6         6         9   0.666504        1.0   \n",
       "4           0.706055         6         6         9   0.666504        1.0   \n",
       "\n",
       "   reorder_1  order_diff  \n",
       "0   0.666504         1.0  \n",
       "1   0.666504         1.0  \n",
       "2   0.666504         6.0  \n",
       "3   0.666504         1.0  \n",
       "4   0.666504         1.0  \n",
       "\n",
       "[5 rows x 64 columns]"
      ]
     },
     "execution_count": 12,
     "metadata": {},
     "output_type": "execute_result"
    }
   ],
   "source": [
    "df.head()"
   ]
  },
  {
   "cell_type": "code",
   "execution_count": 18,
   "metadata": {},
   "outputs": [],
   "source": [
    "label='reordered'\n",
    "parameter=df.columns.drop('reordered')"
   ]
  },
  {
   "cell_type": "code",
   "execution_count": 21,
   "metadata": {},
   "outputs": [],
   "source": [
    "X=df[parameter]\n",
    "y=df[label]"
   ]
  },
  {
   "cell_type": "code",
   "execution_count": 22,
   "metadata": {},
   "outputs": [
    {
     "name": "stdout",
     "output_type": "stream",
     "text": [
      "(5932262, 63) (5932262,)\n",
      "(2542399, 63) (2542399,)\n"
     ]
    }
   ],
   "source": [
    "X_train, X_test, y_train, y_test = train_test_split(X, y, stratify = y, test_size = 0.30)\n",
    "\n",
    "print(X_train.shape, y_train.shape)\n",
    "print(X_test.shape, y_test.shape)"
   ]
  },
  {
   "cell_type": "code",
   "execution_count": 23,
   "metadata": {},
   "outputs": [
    {
     "data": {
      "text/plain": [
       "0.0    5352085\n",
       "1.0     580177\n",
       "Name: reordered, dtype: int64"
      ]
     },
     "execution_count": 23,
     "metadata": {},
     "output_type": "execute_result"
    }
   ],
   "source": [
    "y_train.value_counts()"
   ]
  },
  {
   "cell_type": "code",
   "execution_count": 24,
   "metadata": {},
   "outputs": [
    {
     "data": {
      "text/plain": [
       "0.0    2293752\n",
       "1.0     248647\n",
       "Name: reordered, dtype: int64"
      ]
     },
     "execution_count": 24,
     "metadata": {},
     "output_type": "execute_result"
    }
   ],
   "source": [
    "y_test.value_counts()"
   ]
  },
  {
   "cell_type": "code",
   "execution_count": 32,
   "metadata": {},
   "outputs": [
    {
     "data": {
      "text/plain": [
       "10.0"
      ]
     },
     "execution_count": 32,
     "metadata": {},
     "output_type": "execute_result"
    }
   ],
   "source": [
    "np.ceil(y_train.value_counts()[0]/y_train.value_counts()[1])"
   ]
  },
  {
   "cell_type": "code",
   "execution_count": 33,
   "metadata": {},
   "outputs": [],
   "source": [
    "model_train=xgb.DMatrix(X_train,label=y_train)\n",
    "model_test=xgb.DMatrix(X_test,label=y_test)\n"
   ]
  },
  {
   "cell_type": "code",
   "execution_count": 34,
   "metadata": {},
   "outputs": [],
   "source": [
    "xgb_params = {\n",
    "    \"objective\"        :\"reg:logistic\",\n",
    "    \"eval_metric\"      :\"logloss\",\n",
    "    \"eta\"              :0.1,\n",
    "    \"max_depth\"        :6,\n",
    "    \"min_child_weight\" :10,\n",
    "    \"gamma\"            :0.70,\n",
    "    \"subsample\"        :0.76,\n",
    "    \"colsample_bytree\" :0.95,\n",
    "    \"alpha\"            :2e-05,\n",
    "    \"scale_pos_weight\" :10,\n",
    "    \"lambda\"           :10\n",
    "}"
   ]
  },
  {
   "cell_type": "code",
   "execution_count": 35,
   "metadata": {},
   "outputs": [
    {
     "name": "stdout",
     "output_type": "stream",
     "text": [
      "[0]\ttrain-logloss:0.66497\n",
      "[10]\ttrain-logloss:0.55460\n",
      "[20]\ttrain-logloss:0.53378\n",
      "[30]\ttrain-logloss:0.52782\n",
      "[40]\ttrain-logloss:0.52534\n",
      "[50]\ttrain-logloss:0.52412\n",
      "[60]\ttrain-logloss:0.52303\n",
      "[70]\ttrain-logloss:0.52235\n",
      "[79]\ttrain-logloss:0.52168\n"
     ]
    }
   ],
   "source": [
    "watchlist= [(model_train, \"train\")]\n",
    "model = xgb.train(params=xgb_params, dtrain=model_train, num_boost_round = 80, evals = watchlist, verbose_eval = 10)"
   ]
  },
  {
   "cell_type": "code",
   "execution_count": 36,
   "metadata": {},
   "outputs": [],
   "source": [
    "probability = model.predict(model_test)\n"
   ]
  },
  {
   "cell_type": "code",
   "execution_count": 37,
   "metadata": {},
   "outputs": [],
   "source": [
    "predictions = [1 if i > 0.5 else 0 for i in probability]"
   ]
  },
  {
   "cell_type": "code",
   "execution_count": 38,
   "metadata": {},
   "outputs": [
    {
     "name": "stdout",
     "output_type": "stream",
     "text": [
      "\n",
      " Classification report : \n",
      "               precision    recall  f1-score   support\n",
      "\n",
      "         0.0       0.97      0.74      0.84   2293752\n",
      "         1.0       0.24      0.77      0.37    248647\n",
      "\n",
      "    accuracy                           0.74   2542399\n",
      "   macro avg       0.60      0.75      0.60   2542399\n",
      "weighted avg       0.90      0.74      0.79   2542399\n",
      "\n",
      "Accuracy   Score :  0.7422434480189773\n",
      "F1 Score:  0.3681616407819785\n",
      "Area under curve :  0.8342115090196702 \n",
      "\n"
     ]
    },
    {
     "data": {
      "image/png": "[encoded data removed]",
      "text/plain": [
       "<Figure size 864x864 with 3 Axes>"
      ]
     },
     "metadata": {
      "needs_background": "light"
     },
     "output_type": "display_data"
    }
   ],
   "source": [
    "print (\"\\n Classification report : \\n\",classification_report(y_test, predictions))\n",
    "print (\"Accuracy   Score : \",accuracy_score(y_test, predictions))\n",
    "\n",
    "#confusion matrix\n",
    "conf_matrix = confusion_matrix(y_test,predictions)\n",
    "plt.figure(figsize=(12,12))\n",
    "plt.subplot(221)\n",
    "sns.heatmap(conf_matrix, fmt = \"d\",annot=True, cmap='Blues')\n",
    "b, t = plt.ylim()\n",
    "plt.ylim(b + 0.5, t - 0.5)\n",
    "plt.title('Confuion Matrix')\n",
    "plt.ylabel('True Values')\n",
    "plt.xlabel('Predicted Values')\n",
    "\n",
    "#f1-score\n",
    "f1 = f1_score(y_test, predictions)\n",
    "print(\"F1 Score: \", f1)\n",
    "\n",
    "#roc_auc_score\n",
    "model_roc_auc = roc_auc_score(y_test,probability) \n",
    "print (\"Area under curve : \",model_roc_auc,\"\\n\")\n",
    "fpr,tpr,thresholds = roc_curve(y_test,probability)\n",
    "gmeans = np.sqrt(tpr * (1-fpr))\n",
    "ix = np.argmax(gmeans)\n",
    "threshold = np.round(thresholds[ix],3)\n",
    "\n",
    "plt.subplot(222)\n",
    "plt.plot(fpr, tpr, color='darkorange', lw=1, label = \"Auc : %.3f\" %model_roc_auc)\n",
    "plt.plot([0, 1], [0, 1], color='navy', lw=2, linestyle='--')\n",
    "plt.scatter(fpr[ix], tpr[ix], marker='o', color='black', label='Best Threshold:' + str(threshold))\n",
    "plt.xlim([0.0, 1.0])\n",
    "plt.ylim([0.0, 1.05])\n",
    "plt.xlabel('False Positive Rate')\n",
    "plt.ylabel('True Positive Rate')\n",
    "plt.title('Receiver operating characteristic')\n",
    "plt.legend(loc=\"lower right\")\n",
    "\n",
    "plt.show()"
   ]
  },
  {
   "cell_type": "code",
   "execution_count": 39,
   "metadata": {},
   "outputs": [
    {
     "data": {
      "image/png": "[encoded data removed]",
      "text/plain": [
       "<Figure size 720x1080 with 1 Axes>"
      ]
     },
     "metadata": {
      "needs_background": "light"
     },
     "output_type": "display_data"
    }
   ],
   "source": [
    "fig, ax = plt.subplots(figsize = (10,15))\n",
    "xgb.plot_importance(model, ax = ax)\n",
    "fig.savefig('XGBoost Feature Importance Plot.png')"
   ]
  },
  {
   "cell_type": "code",
   "execution_count": null,
   "metadata": {},
   "outputs": [],
   "source": []
  }
 ],
 "metadata": {
  "kernelspec": {
   "display_name": "Python 3",
   "language": "python",
   "name": "python3"
  },
  "language_info": {
   "codemirror_mode": {
    "name": "ipython",
    "version": 3
   },
   "file_extension": ".py",
   "mimetype": "text/x-python",
   "name": "python",
   "nbconvert_exporter": "python",
   "pygments_lexer": "ipython3",
   "version": "3.8.3"
  }
 },
 "nbformat": 4,
 "nbformat_minor": 4
}
